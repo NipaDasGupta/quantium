{
 "cells": [
  {
   "cell_type": "markdown",
   "id": "c521eebb",
   "metadata": {},
   "source": [
    "### Step 1: Import dependecies"
   ]
  },
  {
   "cell_type": "code",
   "execution_count": 14,
   "id": "f65a95b1",
   "metadata": {},
   "outputs": [],
   "source": [
    "import plotly.express as px\n",
    "from jupyter_dash import JupyterDash\n",
    "import dash_core_components as dcc\n",
    "import dash_html_components as html\n",
    "from dash.dependencies import Input, Output\n",
    "import pandas as pd"
   ]
  },
  {
   "cell_type": "markdown",
   "id": "977fe7c0",
   "metadata": {},
   "source": [
    "### Step 2: Loading the csv file data"
   ]
  },
  {
   "cell_type": "code",
   "execution_count": 39,
   "id": "5ff3f356",
   "metadata": {},
   "outputs": [],
   "source": [
    "# the path to the formatted data file\n",
    "DATA_PATH = \"D:\\quantium\\quantium\\data\\combined_data.csv\"\n",
    "\n",
    "\n",
    "# load in data\n",
    "df = pd.read_csv(DATA_PATH)\n",
    "df = df.sort_values(by=\"date\")"
   ]
  },
  {
   "cell_type": "markdown",
   "id": "2864631b",
   "metadata": {},
   "source": [
    "### Step 3:  Make region-specific sales data for Pink Morsel"
   ]
  },
  {
   "cell_type": "code",
   "execution_count": 107,
   "id": "40891ea7",
   "metadata": {
    "scrolled": true
   },
   "outputs": [
    {
     "data": {
      "text/html": [
       "\n",
       "        <iframe\n",
       "            width=\"100%\"\n",
       "            height=\"650\"\n",
       "            src=\"http://127.0.0.1:8050/\"\n",
       "            frameborder=\"0\"\n",
       "            allowfullscreen\n",
       "            \n",
       "        ></iframe>\n",
       "        "
      ],
      "text/plain": [
       "<IPython.lib.display.IFrame at 0x2053f813b38>"
      ]
     },
     "metadata": {},
     "output_type": "display_data"
    }
   ],
   "source": [
    "# Build App\n",
    "app = JupyterDash(__name__)\n",
    "\n",
    "colors = {\n",
    "    'background': '#111111',\n",
    "    'text': '#7FDBFF'\n",
    "}\n",
    "\n",
    "fig = px.bar(df, x=\"date\", y=\"sales\", color=\"region\", barmode=\"group\")\n",
    "\n",
    "fig.update_layout(\n",
    "    plot_bgcolor=colors['background'],\n",
    "    paper_bgcolor=colors['background'],\n",
    "    font_color=colors['text']\n",
    ")\n",
    "\n",
    "app.layout = html.Div(style={'backgroundColor': colors['background']}, children=[\n",
    "    html.H1(\n",
    "        children='JupyterDash App',\n",
    "        style={\n",
    "            'textAlign': 'center',\n",
    "            'color': colors['text']\n",
    "        }\n",
    "    ),\n",
    "\n",
    "    html.Div(children='Dash: A web application framework for your data.', style={\n",
    "        'textAlign': 'center',\n",
    "        'color': colors['text']\n",
    "    }),\n",
    "\n",
    "    dcc.Graph(\n",
    "        id='example-graph-2',\n",
    "        figure=fig\n",
    "    )\n",
    "])\n",
    "\n",
    "\n",
    "# Run app and display result inline in the notebook\n",
    "app.run_server(mode='inline')"
   ]
  },
  {
   "cell_type": "code",
   "execution_count": null,
   "id": "82ba3028",
   "metadata": {},
   "outputs": [],
   "source": []
  }
 ],
 "metadata": {
  "kernelspec": {
   "display_name": "quantium",
   "language": "python",
   "name": "quantium"
  },
  "language_info": {
   "codemirror_mode": {
    "name": "ipython",
    "version": 3
   },
   "file_extension": ".py",
   "mimetype": "text/x-python",
   "name": "python",
   "nbconvert_exporter": "python",
   "pygments_lexer": "ipython3",
   "version": "3.7.3"
  }
 },
 "nbformat": 4,
 "nbformat_minor": 5
}
